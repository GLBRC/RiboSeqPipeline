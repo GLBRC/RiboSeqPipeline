{
 "cells": [
  {
   "cell_type": "markdown",
   "metadata": {},
   "source": [
    "## RiboSeq processing pipeline \n",
    "\n",
    "#### Steps\n",
    "\n",
    "This pipe assumes you have the fastq files to process in a dedicated directory within a subdirectory called data.\n",
    "\n",
    "1) Run Fastqc to check the read length distribution.  Size selection was used during the experiment, expect both 26-34nt for monosome and 54-68nt for disome according to Erica's email.\n",
    "\n",
    "2) Run cutadapt using the parameters provided by Ezrabio.    \"-j 8 -g \"^GGG\" -a \"A{10}\" -n 2 -m 15 --max-n=0.1 --discard-casava -o output.fastq.gz input.fastq.gz\"\n",
    "\n",
    "3) Remove reads where the first position quality score is <=10\n",
    "\n",
    "4) Align reads with Bowtie to non-coding RNA, https://downloads.yeastgenome.org/sequence/S288C_reference/rna/archive/rna_coding_R64-1-1_20110203.fasta.gz reads that align will be discarded.  Allow 1 mismatch in bowtie alignment.\n",
    "\n",
    "5) Align the remaining reads with Bowtie to YPS1009 and S288C reference genomes.\n",
    "\n",
    "6) Run samtools mpileup to generate counts for all genes in YPS1009 and S288C.\n",
    "\n",
    "\n",
    "\n"
   ]
  },
  {
   "cell_type": "code",
   "execution_count": 3,
   "metadata": {},
   "outputs": [],
   "source": [
    "# import required Python modules\n",
    "import glob\n",
    "import os\n",
    "import re\n",
    "import sys\n",
    "\n",
    "# set global variables\n",
    "parentDir = os.getcwd() + \"/\"\n",
    "referenceDir = \"/mnt/bigdata/linuxhome/mplace/scripts/riboSeqPipeline/reference/\"\n"
   ]
  },
  {
   "cell_type": "code",
   "execution_count": 2,
   "metadata": {},
   "outputs": [],
   "source": [
    "# create a list file of fastq files for processing, we are assuming the original fastq files are in a directory called data.\n",
    "dataDir =  parentDir + \"data/\"        \n",
    "with open('inputFastq.txt', 'w') as out:\n",
    "    for fstq in glob.glob(dataDir + \"*.fastq\"):\n",
    "        out.write(fstq + \"\\n\")       \n"
   ]
  },
  {
   "cell_type": "code",
   "execution_count": 4,
   "metadata": {},
   "outputs": [],
   "source": [
    "# Step 1)\n",
    "# write the fastqc condor submit file\n",
    "with open('fastqc.submit', 'w') as submit:\n",
    "            submit.write( \"Universe                 = vanilla\\n\" )\n",
    "            submit.write( \"Executable               = runFastqc.sh\\n\")\n",
    "            submit.write( \"Arguments                = $(fastqFile)\\n\")\n",
    "            submit.write( \"Error                    = fastq.submit.err\\n\")\n",
    "            submit.write( \"Log                      = fastq.submit.log\\n\")  \n",
    "            submit.write( \"Requirements             = OpSysandVer == \\\"CentOS7\\\"\\n\")\n",
    "            submit.write( \"Queue fastqFile from inputFastq.txt\\n\" )\n",
    "submit.close()  \n",
    "\n",
    "# write shell script to run fastqc\n",
    "with open('runFastqc.sh', 'w') as out:\n",
    "    out.write(\"#!/bin/bash\\n\")\n",
    "    out.write(\"source /opt/bifxapps/miniconda3/etc/profile.d/conda.sh\\n\")\n",
    "    out.write(\"unset PYTHONPATH\\n\")  \n",
    "    out.write(\"conda activate /home/glbrc.org/mplace/.conda/envs/riboSeq\\n\")\n",
    "    out.write(\"fastqc $1\\n\")\n",
    "    out.write(\"conda deactivate\")\n",
    "out.close()\n",
    "\n",
    "os.chmod('runFastqc.sh', 0o0777)\n"
   ]
  },
  {
   "cell_type": "markdown",
   "metadata": {},
   "source": [
    "### Using the GLBRC condor submit node submit the above fastq.submit file\n",
    "\n",
    " condor_submit fastqc.submit  \n",
    "\n",
    " check that the job is running\n",
    "\n",
    " condor_q , you should see something like the following\n",
    "\n",
    "Schedd: scarcity-submit.glbrc.org : <144.92.98.21:9618?... @ 12/04/23 14:27:03\n",
    "\n",
    "OWNER  BATCH_NAME    SUBMITTED   DONE   RUN    IDLE  TOTAL JOB_IDS\n",
    "\n",
    "mplace ID: 814372  12/4  14:25      _      _      2      2 814372.0-1\n",
    "\n"
   ]
  },
  {
   "cell_type": "code",
   "execution_count": 5,
   "metadata": {},
   "outputs": [],
   "source": [
    "# Step 2)\n",
    "# setup input file for cutadapt\n",
    "cutadaptOutDir = parentDir + 'cutadapt/'\n",
    "if os.path.exists(cutadaptOutDir):\n",
    "    print(\"Directory exists.\")\n",
    "else:\n",
    "    os.mkdir(cutadaptOutDir)\n",
    "\n",
    "with open('inputFastq.txt', 'r') as f, open('cutadaptInput.txt', 'w') as out:\n",
    "    for fstq in f:\n",
    "        fstqName = re.sub('.fastq', '-clean.fastq', os.path.basename(fstq.rstrip()))\n",
    "        fstqOutName = cutadaptOutDir + fstqName\n",
    "        out.write(f'{fstq.rstrip()} {fstqOutName}\\n')\n",
    "f.close()\n",
    "out.close()"
   ]
  },
  {
   "cell_type": "code",
   "execution_count": 6,
   "metadata": {},
   "outputs": [],
   "source": [
    "# write the cutadapt condor submit file\n",
    "with open('cutadapt.submit', 'w') as submit:\n",
    "    submit.write( \"Universe                 = vanilla\\n\" )\n",
    "    submit.write( \"Executable               = runCutAdapt.sh\\n\")\n",
    "    submit.write( \"Arguments                = $(fastqFile) $(outFastq)\\n\")\n",
    "    submit.write( \"Error                    = cutadapt.submit.err\\n\")\n",
    "    submit.write( \"Log                      = cutadapt.submit.log\\n\")  \n",
    "    submit.write( \"Requirements             = OpSysandVer == \\\"CentOS7\\\"\\n\")\n",
    "    submit.write( \"Queue fastqFile, outFastq from cutadaptInput.txt\\n\" )\n",
    "submit.close()\n",
    "\n",
    "# write shell script to run cutadapt\n",
    "with open('runCutAdapt.sh', 'w') as out:\n",
    "    out.write(\"#!/bin/bash\\n\")\n",
    "    out.write(\"source /opt/bifxapps/miniconda3/etc/profile.d/conda.sh\\n\")\n",
    "    out.write(\"unset PYTHONPATH\\n\")  \n",
    "    out.write(\"conda activate /home/glbrc.org/mplace/.conda/envs/riboSeq\\n\")\n",
    "    out.write(\"cutadapt -j 8 -g ^GGG -a A{10} -n 2 -m 15 --max-n=0.1 --discard-casava -o $2 $1\\n\")\n",
    "    out.write(\"conda deactivate\")\n",
    "out.close()\n",
    "\n",
    "os.chmod('runCutAdapt.sh', 0o0777)"
   ]
  },
  {
   "cell_type": "code",
   "execution_count": null,
   "metadata": {},
   "outputs": [],
   "source": [
    "# Step 3) Remove reads where the first position quality score is <=10"
   ]
  },
  {
   "cell_type": "code",
   "execution_count": 9,
   "metadata": {},
   "outputs": [
    {
     "name": "stdout",
     "output_type": "stream",
     "text": [
      "Directory exists.\n"
     ]
    }
   ],
   "source": [
    "# Step 4 ) Align reads with Bowtie to non-coding RNA, \n",
    "# https://downloads.yeastgenome.org/sequence/S288C_reference/rna/archive/rna_coding_R64-1-1_20110203.fasta.gz \n",
    "# reads that align will be discarded.  Allow 1 mismatch in bowtie2 alignment.\n",
    "# bowtie2 -p 8 --phred33 -N 1 -x $REFERENCE -U $file -S $out.sam \n",
    "# -p number of threads\n",
    "# -N Sets the number of mismatches\n",
    "# -x The basename of the index for the reference genome\n",
    "# -U file to align (unpaired)\n",
    "# -S File to write SAM alignments to\n",
    "\n",
    "# setup input file for bowtie2 alignment to non-coding RNA\n",
    "nonCodingOutDir = parentDir + 'alignNonCodingRNA/'\n",
    "if os.path.exists(nonCodingOutDir):\n",
    "    print(\"Directory exists.\")\n",
    "else:\n",
    "    os.mkdir(nonCodingOutDir)\n",
    "\n",
    "# get a list of cutadapt cleaned fastq files for alignment\n",
    "with open('alignmentInput.txt', 'w') as out:\n",
    "    for cleanfstq in glob.glob(cutadaptOutDir + '*clean.fastq'):\n",
    "        samFile = re.sub('cutadapt', 'alignNonCodingRNA', re.sub('-clean.fastq', '.sam', cleanfstq))        \n",
    "        out.write(cleanfstq + ' ' + samFile + '\\n')\n",
    "out.close()"
   ]
  },
  {
   "cell_type": "code",
   "execution_count": 8,
   "metadata": {},
   "outputs": [],
   "source": [
    "# write the bowtie2 condor submit file\n",
    "with open('bowtie2.submit', 'w') as submit:\n",
    "    submit.write( \"Universe                 = vanilla\\n\" )\n",
    "    submit.write( \"Executable               = runBowtie2.sh\\n\")\n",
    "    submit.write( \"Arguments                = $(fastqFile) $(sam)\\n\")\n",
    "    submit.write( \"Error                    = bowtie2.submit.err\\n\")\n",
    "    submit.write( \"Log                      = bowtie2.submit.log\\n\")  \n",
    "    submit.write( \"Requirements             = OpSysandVer == \\\"CentOS7\\\"\\n\")\n",
    "    submit.write( \"Queue fastqFile, sam from alignmentInput.txt\\n\" )\n",
    "submit.close()\n",
    "\n",
    "# write shell script to run cutadapt\n",
    "with open('runBowtie2.sh', 'w') as out:\n",
    "    out.write(\"#!/bin/bash\\n\")\n",
    "    out.write(\"source /opt/bifxapps/miniconda3/etc/profile.d/conda.sh\\n\")\n",
    "    out.write(\"unset PYTHONPATH\\n\")  \n",
    "    out.write(\"conda activate /home/glbrc.org/mplace/.conda/envs/riboSeq\\n\")\n",
    "    out.write(\"bowtie2 -p 8 --phred33 -N 1 -x /mnt/bigdata/linuxhome/mplace/scripts/riboseq/reference/rna_coding_R64-1-1 -U $1 -S $2\\n\")\n",
    "    out.write(\"conda deactivate\")\n",
    "out.close()\n",
    "\n",
    "os.chmod('runBowtie2.sh', 0o0777)"
   ]
  }
 ],
 "metadata": {
  "kernelspec": {
   "display_name": "riboSeq",
   "language": "python",
   "name": "python3"
  },
  "language_info": {
   "codemirror_mode": {
    "name": "ipython",
    "version": 3
   },
   "file_extension": ".py",
   "mimetype": "text/x-python",
   "name": "python",
   "nbconvert_exporter": "python",
   "pygments_lexer": "ipython3",
   "version": "3.6.15"
  }
 },
 "nbformat": 4,
 "nbformat_minor": 2
}
